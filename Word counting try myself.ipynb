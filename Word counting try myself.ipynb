{
 "cells": [
  {
   "cell_type": "code",
   "execution_count": 11,
   "metadata": {},
   "outputs": [],
   "source": [
    "import numpy as np\n",
    "import pandas as pd\n",
    "import matplotlib.pyplot as plt\n",
    "%matplotlib inline\n",
    "import seaborn as sns"
   ]
  },
  {
   "cell_type": "code",
   "execution_count": 12,
   "metadata": {},
   "outputs": [],
   "source": [
    "# Get A random text\n",
    "\n",
    "Text=\"\"\"\n",
    "bands which have connected them with another, and to assume among the powers of the earth, the separate and equal station to which the Laws of Nature and of Nature's God entitle them, a decent respect to the opinions of mankind requires that they should declare the causes which impel them to the separation.  We hold these truths to be\n",
    "self-evident, that all men are created equal, that they are endowed by their Creator with certain unalienable Rights, that among these are Life, Liberty and the pursuit of Happiness.--That to secure these rights, Governments are instituted among Men, deriving their just powers from the consent of the governed, --That whenever any Form of Government becomes destructive of these ends, it is the Right of the People to alter or to abolish it, and to institute new Government, laying its foundation on such principles and organizing its powers in such form, as to them shall seem most likely to effect their Safety and Happiness. \"\"\""
   ]
  },
  {
   "cell_type": "code",
   "execution_count": 13,
   "metadata": {},
   "outputs": [],
   "source": [
    "# Cleaning text and lower casing all words\n",
    "\n",
    "for char in '-.,\\n':\n",
    "    Text=Text.replace(char,' ')\n",
    "Text = Text.lower()\n",
    "\n",
    "# split returns a list of words delimited by sequences of whitespace (including tabs, newlines, etc, like re's \\s) \n",
    "word_list = Text.split()"
   ]
  },
  {
   "cell_type": "code",
   "execution_count": 14,
   "metadata": {},
   "outputs": [
    {
     "data": {
      "text/plain": [
       "[('the', 12),\n",
       " ('to', 11),\n",
       " ('of', 9),\n",
       " ('and', 7),\n",
       " ('that', 6),\n",
       " ('them', 4),\n",
       " ('these', 4),\n",
       " ('are', 4),\n",
       " ('which', 3),\n",
       " ('among', 3),\n",
       " ('powers', 3),\n",
       " ('their', 3),\n",
       " ('with', 2),\n",
       " ('equal', 2),\n",
       " ('they', 2),\n",
       " ('men', 2),\n",
       " ('rights', 2),\n",
       " ('happiness', 2),\n",
       " ('form', 2),\n",
       " ('government', 2),\n",
       " ('it', 2),\n",
       " ('its', 2),\n",
       " ('such', 2),\n",
       " ('bands', 1),\n",
       " ('have', 1),\n",
       " ('connected', 1),\n",
       " ('another', 1),\n",
       " ('assume', 1),\n",
       " ('earth', 1),\n",
       " ('separate', 1),\n",
       " ('station', 1),\n",
       " ('laws', 1),\n",
       " ('nature', 1),\n",
       " (\"nature's\", 1),\n",
       " ('god', 1),\n",
       " ('entitle', 1),\n",
       " ('a', 1),\n",
       " ('decent', 1),\n",
       " ('respect', 1),\n",
       " ('opinions', 1),\n",
       " ('mankind', 1),\n",
       " ('requires', 1),\n",
       " ('should', 1),\n",
       " ('declare', 1),\n",
       " ('causes', 1),\n",
       " ('impel', 1),\n",
       " ('separation', 1),\n",
       " ('we', 1),\n",
       " ('hold', 1),\n",
       " ('truths', 1),\n",
       " ('be', 1),\n",
       " ('self', 1),\n",
       " ('evident', 1),\n",
       " ('all', 1),\n",
       " ('created', 1),\n",
       " ('endowed', 1),\n",
       " ('by', 1),\n",
       " ('creator', 1),\n",
       " ('certain', 1),\n",
       " ('unalienable', 1),\n",
       " ('life', 1),\n",
       " ('liberty', 1),\n",
       " ('pursuit', 1),\n",
       " ('secure', 1),\n",
       " ('governments', 1),\n",
       " ('instituted', 1),\n",
       " ('deriving', 1),\n",
       " ('just', 1),\n",
       " ('from', 1),\n",
       " ('consent', 1),\n",
       " ('governed', 1),\n",
       " ('whenever', 1),\n",
       " ('any', 1),\n",
       " ('becomes', 1),\n",
       " ('destructive', 1),\n",
       " ('ends', 1),\n",
       " ('is', 1),\n",
       " ('right', 1),\n",
       " ('people', 1),\n",
       " ('alter', 1),\n",
       " ('or', 1),\n",
       " ('abolish', 1),\n",
       " ('institute', 1),\n",
       " ('new', 1),\n",
       " ('laying', 1),\n",
       " ('foundation', 1),\n",
       " ('on', 1),\n",
       " ('principles', 1),\n",
       " ('organizing', 1),\n",
       " ('in', 1),\n",
       " ('as', 1),\n",
       " ('shall', 1),\n",
       " ('seem', 1),\n",
       " ('most', 1),\n",
       " ('likely', 1),\n",
       " ('effect', 1),\n",
       " ('safety', 1)]"
      ]
     },
     "execution_count": 14,
     "metadata": {},
     "output_type": "execute_result"
    }
   ],
   "source": [
    "# Listing extracted words in ascending order\n",
    "\n",
    "from collections import Counter\n",
    "Counter(word_list).most_common()"
   ]
  },
  {
   "cell_type": "code",
   "execution_count": 27,
   "metadata": {},
   "outputs": [],
   "source": [
    "word_list_ascend=Counter(word_list).most_common()\n",
    "df=pd.DataFrame(word_list_ascend)"
   ]
  },
  {
   "cell_type": "code",
   "execution_count": 29,
   "metadata": {},
   "outputs": [
    {
     "data": {
      "text/html": [
       "<div>\n",
       "<style scoped>\n",
       "    .dataframe tbody tr th:only-of-type {\n",
       "        vertical-align: middle;\n",
       "    }\n",
       "\n",
       "    .dataframe tbody tr th {\n",
       "        vertical-align: top;\n",
       "    }\n",
       "\n",
       "    .dataframe thead th {\n",
       "        text-align: right;\n",
       "    }\n",
       "</style>\n",
       "<table border=\"1\" class=\"dataframe\">\n",
       "  <thead>\n",
       "    <tr style=\"text-align: right;\">\n",
       "      <th></th>\n",
       "      <th>0</th>\n",
       "      <th>1</th>\n",
       "    </tr>\n",
       "  </thead>\n",
       "  <tbody>\n",
       "    <tr>\n",
       "      <th>0</th>\n",
       "      <td>the</td>\n",
       "      <td>12</td>\n",
       "    </tr>\n",
       "    <tr>\n",
       "      <th>1</th>\n",
       "      <td>to</td>\n",
       "      <td>11</td>\n",
       "    </tr>\n",
       "    <tr>\n",
       "      <th>2</th>\n",
       "      <td>of</td>\n",
       "      <td>9</td>\n",
       "    </tr>\n",
       "    <tr>\n",
       "      <th>3</th>\n",
       "      <td>and</td>\n",
       "      <td>7</td>\n",
       "    </tr>\n",
       "    <tr>\n",
       "      <th>4</th>\n",
       "      <td>that</td>\n",
       "      <td>6</td>\n",
       "    </tr>\n",
       "    <tr>\n",
       "      <th>5</th>\n",
       "      <td>them</td>\n",
       "      <td>4</td>\n",
       "    </tr>\n",
       "    <tr>\n",
       "      <th>6</th>\n",
       "      <td>these</td>\n",
       "      <td>4</td>\n",
       "    </tr>\n",
       "    <tr>\n",
       "      <th>7</th>\n",
       "      <td>are</td>\n",
       "      <td>4</td>\n",
       "    </tr>\n",
       "    <tr>\n",
       "      <th>8</th>\n",
       "      <td>which</td>\n",
       "      <td>3</td>\n",
       "    </tr>\n",
       "    <tr>\n",
       "      <th>9</th>\n",
       "      <td>among</td>\n",
       "      <td>3</td>\n",
       "    </tr>\n",
       "  </tbody>\n",
       "</table>\n",
       "</div>"
      ],
      "text/plain": [
       "       0   1\n",
       "0    the  12\n",
       "1     to  11\n",
       "2     of   9\n",
       "3    and   7\n",
       "4   that   6\n",
       "5   them   4\n",
       "6  these   4\n",
       "7    are   4\n",
       "8  which   3\n",
       "9  among   3"
      ]
     },
     "execution_count": 29,
     "metadata": {},
     "output_type": "execute_result"
    }
   ],
   "source": [
    "df.head(10)"
   ]
  },
  {
   "cell_type": "code",
   "execution_count": 40,
   "metadata": {},
   "outputs": [
    {
     "data": {
      "image/png": "[encoded data removed]",
      "text/plain": [
       "<Figure size 720x432 with 1 Axes>"
      ]
     },
     "metadata": {
      "needs_background": "light"
     },
     "output_type": "display_data"
    }
   ],
   "source": [
    "df.plot(kind='bar', figsize=(10,6))\n",
    "\n",
    "plt.xlabel('Word') # add to x-label to the plot\n",
    "plt.ylabel('Number of words') # add y-label to the plot\n",
    "plt.title('Most frequently said words') # add title to the plot\n",
    "\n",
    "plt.show()"
   ]
  },
  {
   "cell_type": "code",
   "execution_count": null,
   "metadata": {},
   "outputs": [],
   "source": []
  }
 ],
 "metadata": {
  "kernelspec": {
   "display_name": "Python 3",
   "language": "python",
   "name": "python3"
  },
  "language_info": {
   "codemirror_mode": {
    "name": "ipython",
    "version": 3
   },
   "file_extension": ".py",
   "mimetype": "text/x-python",
   "name": "python",
   "nbconvert_exporter": "python",
   "pygments_lexer": "ipython3",
   "version": "3.7.1"
  }
 },
 "nbformat": 4,
 "nbformat_minor": 2
}
